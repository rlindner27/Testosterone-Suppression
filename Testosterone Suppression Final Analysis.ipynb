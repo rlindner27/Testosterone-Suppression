{
 "cells": [
  {
   "cell_type": "code",
   "execution_count": 57,
   "metadata": {
    "collapsed": true
   },
   "outputs": [],
   "source": [
    "import matplotlib.pyplot as plt\n",
    "import numpy as np\n",
    "import sklearn\n",
    "from sklearn import linear_model, preprocessing, metrics, model_selection\n",
    "from sklearn.metrics import mean_squared_error, r2_score\n",
    "from numpy import genfromtxt\n",
    "import pandas as pd\n",
    "import scipy.stats as st\n",
    "%matplotlib inline"
   ]
  },
  {
   "cell_type": "markdown",
   "metadata": {},
   "source": [
    "LEAST SQUARES REGRESSION"
   ]
  },
  {
   "cell_type": "markdown",
   "metadata": {},
   "source": [
    "UNSTANDARDIZED"
   ]
  },
  {
   "cell_type": "code",
   "execution_count": 309,
   "metadata": {
    "collapsed": false,
    "scrolled": true
   },
   "outputs": [
    {
     "name": "stdout",
     "output_type": "stream",
     "text": [
      "('OLS R2 Value for Change in Testosterone (Unstandardized):', 0.11284032417458895)\n",
      "('95% Confidence Interval:', (0.055508938901044302, 0.17017170944813359))\n",
      "('OLS R2 Value for End Value of Testosterone (Unstandardized):', -0.093730252869415762)\n",
      "('95% Confidence Interval:', (-0.22057663825523843, 0.033116132516406924))\n"
     ]
    }
   ],
   "source": [
    "#import all data and separate into X and Y, change and end\n",
    "t_data = pd.read_csv('T_Data.csv')\n",
    "X_linear_change = t_data.drop(['T_End','T_Change','T_Supp'], axis = 1)\n",
    "Y_linear_change = t_data[['T_Change']]\n",
    "X_linear_end = t_data.drop(['T_End','T_Change','T_Supp'], axis = 1)\n",
    "Y_linear_end = t_data[['T_End']]\n",
    "\n",
    "#run for change 100 times\n",
    "X_linear_change_train, X_linear_change_test, Y_linear_change_train, Y_linear_change_test = sklearn.model_selection.train_test_split(\n",
    "    X_linear_change, Y_linear_change, test_size=0.2)\n",
    "\n",
    "ols_ch_unst = []\n",
    "for i in range(0,100):\n",
    "    X_linear_change_train, X_linear_change_test, Y_linear_change_train, Y_linear_change_test = sklearn.model_selection.train_test_split(\n",
    "    X_linear_change, Y_linear_change, test_size=0.2, random_state=i)\n",
    "    ols_change_nst = linear_model.LinearRegression()\n",
    "    ols_change_nst.fit(X_linear_change_train, Y_linear_change_train)\n",
    "    pred_test = ols_change_nst.predict(X_linear_change_test)\n",
    "    score = r2_score(Y_linear_change_test, pred_test)\n",
    "    ols_ch_unst.append(score)\n",
    "\n",
    "print (\"OLS R2 Value for Change in Testosterone (Unstandardized):\", np.array(ols_ch_unst).mean())\n",
    "print (\"95% Confidence Interval:\", st.t.interval(0.95, len(ols_ch_unst)-1, loc=np.mean(ols_ch_unst), scale=st.sem(ols_ch_unst)))\n",
    "\n",
    "#run for end 100 times\n",
    "ols_end_unst = []\n",
    "for i in range(0,100):\n",
    "    X_linear_end_train, X_linear_end_test, Y_linear_end_train, Y_linear_end_test = sklearn.model_selection.train_test_split(\n",
    "    X_linear_end, Y_linear_end, test_size=0.2, random_state=i)\n",
    "    ols_end_nst = linear_model.LinearRegression()\n",
    "    ols_end_nst.fit(X_linear_end_train, Y_linear_end_train)\n",
    "    pred_test = ols_end_nst.predict(X_linear_end_test)\n",
    "    score = r2_score(Y_linear_end_test, pred_test)\n",
    "    ols_end_unst.append(score)\n",
    "\n",
    "print (\"OLS R2 Value for End Value of Testosterone (Unstandardized):\", np.array(ols_end_unst).mean())\n",
    "print (\"95% Confidence Interval:\", st.t.interval(0.95, len(ols_end_unst)-1, loc=np.mean(ols_end_unst), scale=st.sem(ols_end_unst)))"
   ]
  },
  {
   "cell_type": "markdown",
   "metadata": {},
   "source": [
    "STANDARDIZED (X AND Y)"
   ]
  },
  {
   "cell_type": "code",
   "execution_count": 295,
   "metadata": {
    "collapsed": false
   },
   "outputs": [
    {
     "name": "stdout",
     "output_type": "stream",
     "text": [
      "('OLS R2 Value for Change in Testosterone (Standardized):', -1.6968243312823387e+26)\n",
      "('95% Confidence Interval:', (-3.8947484159289335e+26, 5.0109975336425562e+25))\n",
      "('OLS R2 Value for End Value of Testosterone (Standardized):', -1.8114851733482761e+26)\n",
      "('95% Confidence Interval:', (-4.1140592869845592e+26, 4.9108894028800675e+25))\n"
     ]
    }
   ],
   "source": [
    "#standardize all data and separate into X and Y, change and end\n",
    "t_data_st = (t_data-t_data.mean())/t_data.std()\n",
    "X_linear_change_st = t_data_st.drop(['T_End','T_Change','T_Supp'], axis = 1)\n",
    "Y_linear_change_st = t_data_st[['T_Change']]\n",
    "X_linear_end_st = t_data_st.drop(['T_End','T_Change','T_Supp'], axis = 1)\n",
    "Y_linear_end_st = t_data_st[['T_End']]\n",
    "\n",
    "#run for change 100 times\n",
    "ols_change_st = []\n",
    "for i in range(0,100):\n",
    "    X_linear_change_st_train, X_linear_change_st_test, Y_linear_change_st_train, Y_linear_change_st_test = sklearn.model_selection.train_test_split(\n",
    "    X_linear_change_st, Y_linear_change_st, test_size=0.2, random_state=i)\n",
    "    ols_change_st_m = linear_model.LinearRegression()\n",
    "    ols_change_st_m.fit(X_linear_change_st_train, Y_linear_change_st_train)\n",
    "    pred_test = ols_change_st_m.predict(X_linear_change_st_test)\n",
    "    score = r2_score(Y_linear_change_st_test, pred_test)\n",
    "    ols_change_st.append(score)\n",
    "\n",
    "print (\"OLS R2 Value for Change in Testosterone (Standardized):\", np.array(ols_change_st).mean())\n",
    "print (\"95% Confidence Interval:\", st.t.interval(0.95, len(ols_change_st)-1, loc=np.mean(ols_change_st), scale=st.sem(ols_change_st)))\n",
    "\n",
    "#run for end 100 times\n",
    "ols_end_st = []\n",
    "for i in range(0,100):\n",
    "    X_linear_end_st_train, X_linear_end_st_test, Y_linear_end_st_train, Y_linear_end_st_test = sklearn.model_selection.train_test_split(\n",
    "    X_linear_end_st, Y_linear_end_st, test_size=0.2, random_state=i)\n",
    "    ols_end_st_m = linear_model.LinearRegression()\n",
    "    ols_end_st_m.fit(X_linear_end_st_train, Y_linear_end_st_train)\n",
    "    pred_test = ols_end_st_m.predict(X_linear_end_st_test)\n",
    "    score = r2_score(Y_linear_end_st_test, pred_test)\n",
    "    ols_end_st.append(score)\n",
    "\n",
    "print (\"OLS R2 Value for End Value of Testosterone (Standardized):\", np.array(ols_end_st).mean())\n",
    "print (\"95% Confidence Interval:\", st.t.interval(0.95, len(ols_end_st)-1, loc=np.mean(ols_end_st), scale=st.sem(ols_end_st)))"
   ]
  },
  {
   "cell_type": "markdown",
   "metadata": {},
   "source": [
    "STANDARDIZED (X) CENTERED (Y)"
   ]
  },
  {
   "cell_type": "code",
   "execution_count": 294,
   "metadata": {
    "collapsed": false,
    "scrolled": true
   },
   "outputs": [
    {
     "name": "stdout",
     "output_type": "stream",
     "text": [
      "('OLS R2 Value for Change in Testosterone (Standardized/Centered):', -1.6968243312823326e+26)\n",
      "('95% Confidence Interval:', (-3.894748415928919e+26, 5.0109975336425391e+25))\n",
      "('OLS R2 Value for End Value of Testosterone (Standardized/Centered):', -1.8114851733482713e+26)\n",
      "('95% Confidence Interval:', (-4.1140592869845462e+26, 4.9108894028800366e+25))\n"
     ]
    }
   ],
   "source": [
    "#standardize all data and separate into X and Y, change and end\n",
    "t_data_st = (t_data-t_data.mean())/t_data.std()\n",
    "X_linear_change_st = (X_linear_change-X_linear_change.mean())/X_linear_change.std()\n",
    "Y_linear_change_st = Y_linear_change-Y_linear_change.mean()\n",
    "X_linear_end_st = (X_linear_end-X_linear_end.mean())/X_linear_end.std()\n",
    "Y_linear_end_st = Y_linear_end-Y_linear_end.mean()\n",
    "\n",
    "#run for change 100 times\n",
    "ols_change_st = []\n",
    "for i in range(0,100):\n",
    "    X_linear_change_st_train, X_linear_change_st_test, Y_linear_change_st_train, Y_linear_change_st_test = sklearn.model_selection.train_test_split(\n",
    "    X_linear_change_st, Y_linear_change_st, test_size=0.2, random_state=i)\n",
    "    ols_change_st_m = linear_model.LinearRegression()\n",
    "    ols_change_st_m.fit(X_linear_change_st_train, Y_linear_change_st_train)\n",
    "    pred_test = ols_change_st_m.predict(X_linear_change_st_test)\n",
    "    score = r2_score(Y_linear_change_st_test, pred_test)\n",
    "    ols_change_st.append(score)\n",
    "\n",
    "print (\"OLS R2 Value for Change in Testosterone (Standardized/Centered):\", np.array(ols_change_st).mean())\n",
    "print (\"95% Confidence Interval:\", st.t.interval(0.95, len(ols_change_st)-1, loc=np.mean(ols_change_st), scale=st.sem(ols_change_st)))\n",
    "\n",
    "#run for end 100 times\n",
    "ols_end_st = []\n",
    "for i in range(0,100):\n",
    "    X_linear_end_st_train, X_linear_end_st_test, Y_linear_end_st_train, Y_linear_end_st_test = sklearn.model_selection.train_test_split(\n",
    "    X_linear_end_st, Y_linear_end_st, test_size=0.2, random_state=i)\n",
    "    ols_end_st_m = linear_model.LinearRegression()\n",
    "    ols_end_st_m.fit(X_linear_end_st_train, Y_linear_end_st_train)\n",
    "    pred_test = ols_end_st_m.predict(X_linear_end_st_test)\n",
    "    score = r2_score(Y_linear_end_st_test, pred_test)\n",
    "    ols_end_st.append(score)\n",
    "\n",
    "print (\"OLS R2 Value for End Value of Testosterone (Standardized/Centered):\", np.array(ols_end_st).mean())\n",
    "print (\"95% Confidence Interval:\", st.t.interval(0.95, len(ols_end_st)-1, loc=np.mean(ols_end_st), scale=st.sem(ols_end_st)))"
   ]
  },
  {
   "cell_type": "markdown",
   "metadata": {},
   "source": [
    "LASSO"
   ]
  },
  {
   "cell_type": "markdown",
   "metadata": {},
   "source": [
    "UNSTANDARDIZED"
   ]
  },
  {
   "cell_type": "code",
   "execution_count": 311,
   "metadata": {
    "collapsed": false
   },
   "outputs": [
    {
     "name": "stdout",
     "output_type": "stream",
     "text": [
      "('LASSO R2 Value for Change in Testosterone (Unstandardized):', 0.22863336846698079)\n",
      "('95% Confidence Interval:', (0.18508642363315353, 0.27218031330080805))\n",
      "('LASSO R2 Value for End Value of Testosterone (Unstandardized):', 0.034793570952855783)\n",
      "('95% Confidence Interval:', (-0.083570737762315439, 0.15315787966802702))\n"
     ]
    }
   ],
   "source": [
    "#run 100 times for change in value\n",
    "ols_ch_unst = []\n",
    "for i in range(0,100):\n",
    "    X_linear_change_train, X_linear_change_test, Y_linear_change_train, Y_linear_change_test = sklearn.model_selection.train_test_split(\n",
    "    X_linear_change, Y_linear_change, test_size=0.2, random_state=i)\n",
    "    ols_change_nst = linear_model.Lasso()\n",
    "    ols_change_nst.fit(X_linear_change_train, Y_linear_change_train)\n",
    "    pred_test = ols_change_nst.predict(X_linear_change_test)\n",
    "    score = r2_score(Y_linear_change_test, pred_test)\n",
    "    ols_ch_unst.append(score)\n",
    "\n",
    "print (\"LASSO R2 Value for Change in Testosterone (Unstandardized):\", np.array(ols_ch_unst).mean())\n",
    "print (\"95% Confidence Interval:\", st.t.interval(0.95, len(ols_ch_unst)-1, loc=np.mean(ols_ch_unst), scale=st.sem(ols_ch_unst)))\n",
    "\n",
    "#run for end 100 times\n",
    "ols_end_unst = []\n",
    "for i in range(0,100):\n",
    "    X_linear_end_train, X_linear_end_test, Y_linear_end_train, Y_linear_end_test = sklearn.model_selection.train_test_split(\n",
    "    X_linear_end, Y_linear_end, test_size=0.2, random_state=i)\n",
    "    ols_end_nst = linear_model.Lasso()\n",
    "    ols_end_nst.fit(X_linear_end_train, Y_linear_end_train)\n",
    "    pred_test = ols_end_nst.predict(X_linear_end_test)\n",
    "    score = r2_score(Y_linear_end_test, pred_test)\n",
    "    ols_end_unst.append(score)\n",
    "\n",
    "print (\"LASSO R2 Value for End Value of Testosterone (Unstandardized):\", np.array(ols_end_unst).mean())\n",
    "print (\"95% Confidence Interval:\", st.t.interval(0.95, len(ols_end_unst)-1, loc=np.mean(ols_end_unst), scale=st.sem(ols_end_unst)))"
   ]
  },
  {
   "cell_type": "markdown",
   "metadata": {},
   "source": [
    "LASSO"
   ]
  },
  {
   "cell_type": "markdown",
   "metadata": {},
   "source": [
    "STANDARDIZED (X AND Y)"
   ]
  },
  {
   "cell_type": "code",
   "execution_count": 321,
   "metadata": {
    "collapsed": false
   },
   "outputs": [
    {
     "name": "stdout",
     "output_type": "stream",
     "text": [
      "('LASSO R2 Value for Change in Testosterone (Standardized):', -0.029406317262901341)\n",
      "('95% Confidence Interval:', (-0.036292163814830081, -0.022520470710972601))\n",
      "('LASSO R2 Value for End Value of Testosterone (Standardized):', -0.045594892133622549)\n",
      "('95% Confidence Interval:', (-0.064718193730803786, -0.026471590536441311))\n"
     ]
    }
   ],
   "source": [
    "t_data_st = (t_data-t_data.mean())/t_data.std()\n",
    "X_linear_change_st = t_data_st.drop(['T_End','T_Change','T_Supp'], axis = 1)\n",
    "Y_linear_change_st = t_data_st[['T_Change']]\n",
    "X_linear_end_st = t_data_st.drop(['T_End','T_Change','T_Supp'], axis = 1)\n",
    "Y_linear_end_st = t_data_st[['T_End']]\n",
    "\n",
    "#run for change 100 times\n",
    "ols_change_st = []\n",
    "for i in range(0,100):\n",
    "    X_linear_change_st_train, X_linear_change_st_test, Y_linear_change_st_train, Y_linear_change_st_test = sklearn.model_selection.train_test_split(\n",
    "    X_linear_change_st, Y_linear_change_st, test_size=0.2, random_state=i)\n",
    "    ols_change_st_m = linear_model.Lasso()\n",
    "    ols_change_st_m.fit(X_linear_change_st_train, Y_linear_change_st_train)\n",
    "    pred_test = ols_change_st_m.predict(X_linear_change_st_test)\n",
    "    score = r2_score(Y_linear_change_st_test, pred_test)\n",
    "    ols_change_st.append(score)\n",
    "\n",
    "print (\"LASSO R2 Value for Change in Testosterone (Standardized):\", np.array(ols_change_st).mean())\n",
    "print (\"95% Confidence Interval:\", st.t.interval(0.95, len(ols_change_st)-1, loc=np.mean(ols_change_st), scale=st.sem(ols_change_st)))\n",
    "\n",
    "#run for end 100 times\n",
    "ols_end_st = []\n",
    "for i in range(0,100):\n",
    "    X_linear_end_st_train, X_linear_end_st_test, Y_linear_end_st_train, Y_linear_end_st_test = sklearn.model_selection.train_test_split(\n",
    "    X_linear_end_st, Y_linear_end_st, test_size=0.2, random_state=i)\n",
    "    ols_end_st_m = linear_model.Lasso()\n",
    "    ols_end_st_m.fit(X_linear_end_st_train, Y_linear_end_st_train)\n",
    "    pred_test = ols_end_st_m.predict(X_linear_end_st_test)\n",
    "    score = r2_score(Y_linear_end_st_test, pred_test)\n",
    "    ols_end_st.append(score)\n",
    "\n",
    "print (\"LASSO R2 Value for End Value of Testosterone (Standardized):\", np.array(ols_end_st).mean())\n",
    "print (\"95% Confidence Interval:\", st.t.interval(0.95, len(ols_end_st)-1, loc=np.mean(ols_end_st), scale=st.sem(ols_end_st)))"
   ]
  },
  {
   "cell_type": "markdown",
   "metadata": {},
   "source": [
    "STANDARDIZED (X) CENTERED (Y)"
   ]
  },
  {
   "cell_type": "code",
   "execution_count": 330,
   "metadata": {
    "collapsed": false
   },
   "outputs": [
    {
     "name": "stdout",
     "output_type": "stream",
     "text": [
      "('LASSO R2 Value for Change in Testosterone (Standardized/Centered):', 0.15849888420837588)\n",
      "('95% Confidence Interval:', (0.10758950704266838, 0.20940826137408336))\n",
      "('LASSO R2 Value for End Value of Testosterone (Standardized/Centered):', -0.038895950464007019)\n",
      "('95% Confidence Interval:', (-0.16018568197654939, 0.082393781048535342))\n"
     ]
    }
   ],
   "source": [
    "#standardize all data and separate into X and Y, change and end\n",
    "t_data_st = (t_data-t_data.mean())/t_data.std()\n",
    "X_linear_change_st = (X_linear_change-X_linear_change.mean())/X_linear_change.std()\n",
    "Y_linear_change_st = Y_linear_change-Y_linear_change.mean()\n",
    "X_linear_end_st = (X_linear_end-X_linear_end.mean())/X_linear_end.std()\n",
    "Y_linear_end_st = Y_linear_end-Y_linear_end.mean()\n",
    "\n",
    "#run for change 100 times\n",
    "ols_change_st = []\n",
    "for i in range(0,100):\n",
    "    X_linear_change_st_train, X_linear_change_st_test, Y_linear_change_st_train, Y_linear_change_st_test = sklearn.model_selection.train_test_split(\n",
    "    X_linear_change_st, Y_linear_change_st, test_size=0.2, random_state=i)\n",
    "    ols_change_st_m = linear_model.Lasso()\n",
    "    ols_change_st_m.fit(X_linear_change_st_train, Y_linear_change_st_train)\n",
    "    pred_test = ols_change_st_m.predict(X_linear_change_st_test)\n",
    "    score = r2_score(Y_linear_change_st_test, pred_test)\n",
    "    ols_change_st.append(score)\n",
    "\n",
    "print (\"LASSO R2 Value for Change in Testosterone (Standardized/Centered):\", np.array(ols_change_st).mean())\n",
    "print (\"95% Confidence Interval:\", st.t.interval(0.95, len(ols_change_st)-1, loc=np.mean(ols_change_st), scale=st.sem(ols_change_st)))\n",
    "\n",
    "#run for end 100 times\n",
    "ols_end_st = []\n",
    "for i in range(0,100):\n",
    "    X_linear_end_st_train, X_linear_end_st_test, Y_linear_end_st_train, Y_linear_end_st_test = sklearn.model_selection.train_test_split(\n",
    "    X_linear_end_st, Y_linear_end_st, test_size=0.2, random_state=i)\n",
    "    ols_end_st_m = linear_model.Lasso()\n",
    "    ols_end_st_m.fit(X_linear_end_st_train, Y_linear_end_st_train)\n",
    "    pred_test = ols_end_st_m.predict(X_linear_end_st_test)\n",
    "    score = r2_score(Y_linear_end_st_test, pred_test)\n",
    "    ols_end_st.append(score)\n",
    "\n",
    "print (\"LASSO R2 Value for End Value of Testosterone (Standardized/Centered):\", np.array(ols_end_st).mean())\n",
    "print (\"95% Confidence Interval:\", st.t.interval(0.95, len(ols_end_st)-1, loc=np.mean(ols_end_st), scale=st.sem(ols_end_st)))"
   ]
  },
  {
   "cell_type": "markdown",
   "metadata": {},
   "source": [
    "RIDGE"
   ]
  },
  {
   "cell_type": "markdown",
   "metadata": {},
   "source": [
    "UNSTANDARDIZED"
   ]
  },
  {
   "cell_type": "code",
   "execution_count": 335,
   "metadata": {
    "collapsed": false
   },
   "outputs": [
    {
     "name": "stdout",
     "output_type": "stream",
     "text": [
      "('Ridge R2 Value for Change in Testosterone (Unstandardized):', 0.21143932884749886)\n",
      "('95% Confidence Interval:', (0.16769669498904022, 0.2551819627059575))\n",
      "('Ridge R2 Value for End Value of Testosterone (Unstandardized):', 0.013407950332521472)\n",
      "('95% Confidence Interval:', (-0.10698019732521774, 0.13379609799026068))\n"
     ]
    }
   ],
   "source": [
    "#run 100 times for change in value\n",
    "ols_ch_unst = []\n",
    "for i in range(0,100):\n",
    "    X_linear_change_train, X_linear_change_test, Y_linear_change_train, Y_linear_change_test = sklearn.model_selection.train_test_split(\n",
    "    X_linear_change, Y_linear_change, test_size=0.2, random_state=i)\n",
    "    ols_change_nst = linear_model.Ridge()\n",
    "    ols_change_nst.fit(X_linear_change_train, Y_linear_change_train)\n",
    "    pred_test = ols_change_nst.predict(X_linear_change_test)\n",
    "    score = r2_score(Y_linear_change_test, pred_test)\n",
    "    ols_ch_unst.append(score)\n",
    "\n",
    "print (\"Ridge R2 Value for Change in Testosterone (Unstandardized):\", np.array(ols_ch_unst).mean())\n",
    "print (\"95% Confidence Interval:\", st.t.interval(0.95, len(ols_ch_unst)-1, loc=np.mean(ols_ch_unst), scale=st.sem(ols_ch_unst)))\n",
    "\n",
    "#run for end 100 times\n",
    "ols_end_unst = []\n",
    "for i in range(0,100):\n",
    "    X_linear_end_train, X_linear_end_test, Y_linear_end_train, Y_linear_end_test = sklearn.model_selection.train_test_split(\n",
    "    X_linear_end, Y_linear_end, test_size=0.2, random_state=i)\n",
    "    ols_end_nst = linear_model.Ridge()\n",
    "    ols_end_nst.fit(X_linear_end_train, Y_linear_end_train)\n",
    "    pred_test = ols_end_nst.predict(X_linear_end_test)\n",
    "    score = r2_score(Y_linear_end_test, pred_test)\n",
    "    ols_end_unst.append(score)\n",
    "\n",
    "print (\"Ridge R2 Value for End Value of Testosterone (Unstandardized):\", np.array(ols_end_unst).mean())\n",
    "print (\"95% Confidence Interval:\", st.t.interval(0.95, len(ols_end_unst)-1, loc=np.mean(ols_end_unst), scale=st.sem(ols_end_unst)))"
   ]
  },
  {
   "cell_type": "markdown",
   "metadata": {},
   "source": [
    "STANDARDIZED (X AND Y)"
   ]
  },
  {
   "cell_type": "code",
   "execution_count": 368,
   "metadata": {
    "collapsed": false
   },
   "outputs": [
    {
     "name": "stdout",
     "output_type": "stream",
     "text": [
      "('Ridge R2 Value for Change in Testosterone (Standardized):', 0.12598166386321491)\n",
      "('95% Confidence Interval:', (0.070894962499956721, 0.1810683652264731))\n",
      "('Ridge R2 Value for End Value of Testosterone (Standardized):', -0.07470869361922268)\n",
      "('95% Confidence Interval:', (-0.19797288974479871, 0.048555502506353349))\n"
     ]
    }
   ],
   "source": [
    "t_data_st = (t_data-t_data.mean())/t_data.std()\n",
    "X_linear_change_st = t_data_st.drop(['T_End','T_Change','T_Supp'], axis = 1)\n",
    "Y_linear_change_st = t_data_st[['T_Change']]\n",
    "X_linear_end_st = t_data_st.drop(['T_End','T_Change','T_Supp'], axis = 1)\n",
    "Y_linear_end_st = t_data_st[['T_End']]\n",
    "\n",
    "#run for change 100 times\n",
    "ols_change_st = []\n",
    "for i in range(0,100):\n",
    "    X_linear_change_st_train, X_linear_change_st_test, Y_linear_change_st_train, Y_linear_change_st_test = sklearn.model_selection.train_test_split(\n",
    "    X_linear_change_st, Y_linear_change_st, test_size=0.2, random_state=i)\n",
    "    ols_change_st_m = linear_model.Ridge()\n",
    "    ols_change_st_m.fit(X_linear_change_st_train, Y_linear_change_st_train)\n",
    "    pred_test = ols_change_st_m.predict(X_linear_change_st_test)\n",
    "    score = r2_score(Y_linear_change_st_test, pred_test)\n",
    "    ols_change_st.append(score)\n",
    "\n",
    "print (\"Ridge R2 Value for Change in Testosterone (Standardized):\", np.array(ols_change_st).mean())\n",
    "print (\"95% Confidence Interval:\", st.t.interval(0.95, len(ols_change_st)-1, loc=np.mean(ols_change_st), scale=st.sem(ols_change_st)))\n",
    "\n",
    "#run for end 100 times\n",
    "ols_end_st = []\n",
    "for i in range(0,100):\n",
    "    X_linear_end_st_train, X_linear_end_st_test, Y_linear_end_st_train, Y_linear_end_st_test = sklearn.model_selection.train_test_split(\n",
    "    X_linear_end_st, Y_linear_end_st, test_size=0.2, random_state=i)\n",
    "    ols_end_st_m = linear_model.Ridge()\n",
    "    ols_end_st_m.fit(X_linear_end_st_train, Y_linear_end_st_train)\n",
    "    pred_test = ols_end_st_m.predict(X_linear_end_st_test)\n",
    "    score = r2_score(Y_linear_end_st_test, pred_test)\n",
    "    ols_end_st.append(score)\n",
    "\n",
    "print (\"Ridge R2 Value for End Value of Testosterone (Standardized):\", np.array(ols_end_st).mean())\n",
    "print (\"95% Confidence Interval:\", st.t.interval(0.95, len(ols_end_st)-1, loc=np.mean(ols_end_st), scale=st.sem(ols_end_st)))"
   ]
  },
  {
   "cell_type": "markdown",
   "metadata": {},
   "source": [
    "STANDARDIZED (X) CENTERED (Y)"
   ]
  },
  {
   "cell_type": "code",
   "execution_count": 372,
   "metadata": {
    "collapsed": false
   },
   "outputs": [
    {
     "name": "stdout",
     "output_type": "stream",
     "text": [
      "('Ridge R2 Value for Change in Testosterone (Standardized/Centered):', 0.12598166386321491)\n",
      "('95% Confidence Interval:', (0.070894962499956748, 0.18106836522647307))\n",
      "('Ridge R2 Value for End Value of Testosterone (Standardized/Centered):', -0.074708693619222735)\n",
      "('95% Confidence Interval:', (-0.19797288974479882, 0.048555502506353362))\n"
     ]
    }
   ],
   "source": [
    "#standardize all data and separate into X and Y, change and end\n",
    "X_linear_change_st = (X_linear_change-X_linear_change.mean())/X_linear_change.std()\n",
    "Y_linear_change_st = Y_linear_change-Y_linear_change.mean()\n",
    "X_linear_end_st = (X_linear_end-X_linear_end.mean())/X_linear_end.std()\n",
    "Y_linear_end_st = (Y_linear_end-Y_linear_end.mean())\n",
    "\n",
    "#run for change 100 times\n",
    "ols_change_st = []\n",
    "for i in range(0,100):\n",
    "    X_linear_change_st_train, X_linear_change_st_test, Y_linear_change_st_train, Y_linear_change_st_test = sklearn.model_selection.train_test_split(\n",
    "    X_linear_change_st, Y_linear_change_st, test_size=0.2, random_state=i)\n",
    "    ols_change_st_m = linear_model.Ridge()\n",
    "    ols_change_st_m.fit(X_linear_change_st_train, Y_linear_change_st_train)\n",
    "    pred_test = ols_change_st_m.predict(X_linear_change_st_test)\n",
    "    score = r2_score(Y_linear_change_st_test, pred_test)\n",
    "    ols_change_st.append(score)\n",
    "\n",
    "print (\"Ridge R2 Value for Change in Testosterone (Standardized/Centered):\", np.array(ols_change_st).mean())\n",
    "print (\"95% Confidence Interval:\", st.t.interval(0.95, len(ols_change_st)-1, loc=np.mean(ols_change_st), scale=st.sem(ols_change_st)))\n",
    "\n",
    "#run for end 100 times\n",
    "ols_end_st = []\n",
    "for i in range(0,100):\n",
    "    X_linear_end_st_train, X_linear_end_st_test, Y_linear_end_st_train, Y_linear_end_st_test = sklearn.model_selection.train_test_split(\n",
    "    X_linear_end_st, Y_linear_end_st, test_size=0.2, random_state=i)\n",
    "    ols_end_st_m = linear_model.Ridge()\n",
    "    ols_end_st_m.fit(X_linear_end_st_train, Y_linear_end_st_train)\n",
    "    pred_test = ols_end_st_m.predict(X_linear_end_st_test)\n",
    "    score = r2_score(Y_linear_end_st_test, pred_test)\n",
    "    ols_end_st.append(score)\n",
    "\n",
    "print (\"Ridge R2 Value for End Value of Testosterone (Standardized/Centered):\", np.array(ols_end_st).mean())\n",
    "print (\"95% Confidence Interval:\", st.t.interval(0.95, len(ols_end_st)-1, loc=np.mean(ols_end_st), scale=st.sem(ols_end_st)))"
   ]
  },
  {
   "cell_type": "markdown",
   "metadata": {},
   "source": [
    "ELASTIC NET"
   ]
  },
  {
   "cell_type": "markdown",
   "metadata": {},
   "source": [
    "UNSTANDARDIZED"
   ]
  },
  {
   "cell_type": "code",
   "execution_count": 373,
   "metadata": {
    "collapsed": false
   },
   "outputs": [
    {
     "name": "stdout",
     "output_type": "stream",
     "text": [
      "('Elastic Net R2 Value for Change in Testosterone (Unstandardized):', 0.28784753290208515)\n",
      "('95% Confidence Interval:', (0.2516258521661992, 0.32406921363797109))\n",
      "('Elastic Net R2 Value for End Value of Testosterone (Unstandardized):', 0.14988241274274802)\n",
      "('95% Confidence Interval:', (0.073086054370092662, 0.22667877111540338))\n"
     ]
    }
   ],
   "source": [
    "#run 100 times for change in value\n",
    "ols_ch_unst = []\n",
    "for i in range(0,100):\n",
    "    X_linear_change_train, X_linear_change_test, Y_linear_change_train, Y_linear_change_test = sklearn.model_selection.train_test_split(\n",
    "    X_linear_change, Y_linear_change, test_size=0.2, random_state=i)\n",
    "    ols_change_nst = linear_model.ElasticNet()\n",
    "    ols_change_nst.fit(X_linear_change_train, Y_linear_change_train)\n",
    "    pred_test = ols_change_nst.predict(X_linear_change_test)\n",
    "    score = r2_score(Y_linear_change_test, pred_test)\n",
    "    ols_ch_unst.append(score)\n",
    "\n",
    "print (\"Elastic Net R2 Value for Change in Testosterone (Unstandardized):\", np.array(ols_ch_unst).mean())\n",
    "print (\"95% Confidence Interval:\", st.t.interval(0.95, len(ols_ch_unst)-1, loc=np.mean(ols_ch_unst), scale=st.sem(ols_ch_unst)))\n",
    "\n",
    "#run for end 100 times\n",
    "ols_end_unst = []\n",
    "for i in range(0,100):\n",
    "    X_linear_end_train, X_linear_end_test, Y_linear_end_train, Y_linear_end_test = sklearn.model_selection.train_test_split(\n",
    "    X_linear_end, Y_linear_end, test_size=0.2, random_state=i)\n",
    "    ols_end_nst = linear_model.ElasticNet()\n",
    "    ols_end_nst.fit(X_linear_end_train, Y_linear_end_train)\n",
    "    pred_test = ols_end_nst.predict(X_linear_end_test)\n",
    "    score = r2_score(Y_linear_end_test, pred_test)\n",
    "    ols_end_unst.append(score)\n",
    "\n",
    "print (\"Elastic Net R2 Value for End Value of Testosterone (Unstandardized):\", np.array(ols_end_unst).mean())\n",
    "print (\"95% Confidence Interval:\", st.t.interval(0.95, len(ols_end_unst)-1, loc=np.mean(ols_end_unst), scale=st.sem(ols_end_unst)))"
   ]
  },
  {
   "cell_type": "markdown",
   "metadata": {},
   "source": [
    "STANDARDIZED (X AND Y)"
   ]
  },
  {
   "cell_type": "code",
   "execution_count": 374,
   "metadata": {
    "collapsed": false
   },
   "outputs": [
    {
     "name": "stdout",
     "output_type": "stream",
     "text": [
      "('Elastic Net R2 Value for Change in Testosterone (Standardized):', 0.047314495658113513)\n",
      "('95% Confidence Interval:', (0.034530054425672418, 0.060098936890554608))\n",
      "('Elastic Net R2 Value for End Value of Testosterone (Standardized):', -0.045594892133622549)\n",
      "('95% Confidence Interval:', (-0.064718193730803786, -0.026471590536441311))\n"
     ]
    }
   ],
   "source": [
    "t_data_st = (t_data-t_data.mean())/t_data.std()\n",
    "X_linear_change_st = t_data_st.drop(['T_End','T_Change','T_Supp'], axis = 1)\n",
    "Y_linear_change_st = t_data_st[['T_Change']]\n",
    "X_linear_end_st = t_data_st.drop(['T_End','T_Change','T_Supp'], axis = 1)\n",
    "Y_linear_end_st = t_data_st[['T_End']]\n",
    "\n",
    "#run for change 100 times\n",
    "ols_change_st = []\n",
    "for i in range(0,100):\n",
    "    X_linear_change_st_train, X_linear_change_st_test, Y_linear_change_st_train, Y_linear_change_st_test = sklearn.model_selection.train_test_split(\n",
    "    X_linear_change_st, Y_linear_change_st, test_size=0.2, random_state=i)\n",
    "    ols_change_st_m = linear_model.ElasticNet()\n",
    "    ols_change_st_m.fit(X_linear_change_st_train, Y_linear_change_st_train)\n",
    "    pred_test = ols_change_st_m.predict(X_linear_change_st_test)\n",
    "    score = r2_score(Y_linear_change_st_test, pred_test)\n",
    "    ols_change_st.append(score)\n",
    "\n",
    "print (\"Elastic Net R2 Value for Change in Testosterone (Standardized):\", np.array(ols_change_st).mean())\n",
    "print (\"95% Confidence Interval:\", st.t.interval(0.95, len(ols_change_st)-1, loc=np.mean(ols_change_st), scale=st.sem(ols_change_st)))\n",
    "\n",
    "#run for end 100 times\n",
    "ols_end_st = []\n",
    "for i in range(0,100):\n",
    "    X_linear_end_st_train, X_linear_end_st_test, Y_linear_end_st_train, Y_linear_end_st_test = sklearn.model_selection.train_test_split(\n",
    "    X_linear_end_st, Y_linear_end_st, test_size=0.2, random_state=i)\n",
    "    ols_end_st_m = linear_model.ElasticNet()\n",
    "    ols_end_st_m.fit(X_linear_end_st_train, Y_linear_end_st_train)\n",
    "    pred_test = ols_end_st_m.predict(X_linear_end_st_test)\n",
    "    score = r2_score(Y_linear_end_st_test, pred_test)\n",
    "    ols_end_st.append(score)\n",
    "\n",
    "print (\"Elastic Net R2 Value for End Value of Testosterone (Standardized):\", np.array(ols_end_st).mean())\n",
    "print (\"95% Confidence Interval:\", st.t.interval(0.95, len(ols_end_st)-1, loc=np.mean(ols_end_st), scale=st.sem(ols_end_st)))"
   ]
  },
  {
   "cell_type": "markdown",
   "metadata": {},
   "source": [
    "STANDARDIZED (X) CENTERED (Y)"
   ]
  },
  {
   "cell_type": "code",
   "execution_count": 375,
   "metadata": {
    "collapsed": false
   },
   "outputs": [
    {
     "name": "stdout",
     "output_type": "stream",
     "text": [
      "('Elastic Net R2 Value for Change in Testosterone (Standardized/Centered):', 0.33693357184050932)\n",
      "('95% Confidence Interval:', (0.30933742325932129, 0.36452972042169735))\n",
      "('Elastic Net R2 Value for End Value of Testosterone (Standardized/Centered):', 0.24084706316526655)\n",
      "('95% Confidence Interval:', (0.20742054634091511, 0.27427357998961799))\n"
     ]
    }
   ],
   "source": [
    "#standardize all data and separate into X and Y, change and end\n",
    "t_data_st = (t_data-t_data.mean())/t_data.std()\n",
    "X_linear_change_st = (X_linear_change-X_linear_change.mean())/X_linear_change.std()\n",
    "Y_linear_change_st = Y_linear_change-Y_linear_change.mean()\n",
    "X_linear_end_st = (X_linear_end-X_linear_end.mean())/X_linear_end.std()\n",
    "Y_linear_end_st = Y_linear_end-Y_linear_end.mean()\n",
    "\n",
    "#run for change 100 times\n",
    "ols_change_st = []\n",
    "for i in range(0,100):\n",
    "    X_linear_change_st_train, X_linear_change_st_test, Y_linear_change_st_train, Y_linear_change_st_test = sklearn.model_selection.train_test_split(\n",
    "    X_linear_change_st, Y_linear_change_st, test_size=0.2, random_state=i)\n",
    "    ols_change_st_m = linear_model.ElasticNet()\n",
    "    ols_change_st_m.fit(X_linear_change_st_train, Y_linear_change_st_train)\n",
    "    pred_test = ols_change_st_m.predict(X_linear_change_st_test)\n",
    "    score = r2_score(Y_linear_change_st_test, pred_test)\n",
    "    ols_change_st.append(score)\n",
    "\n",
    "print (\"Elastic Net R2 Value for Change in Testosterone (Standardized/Centered):\", np.array(ols_change_st).mean())\n",
    "print (\"95% Confidence Interval:\", st.t.interval(0.95, len(ols_change_st)-1, loc=np.mean(ols_change_st), scale=st.sem(ols_change_st)))\n",
    "\n",
    "#run for end 100 times\n",
    "ols_end_st = []\n",
    "for i in range(0,100):\n",
    "    X_linear_end_st_train, X_linear_end_st_test, Y_linear_end_st_train, Y_linear_end_st_test = sklearn.model_selection.train_test_split(\n",
    "    X_linear_end_st, Y_linear_end_st, test_size=0.2, random_state=i)\n",
    "    ols_end_st_m = linear_model.ElasticNet()\n",
    "    ols_end_st_m.fit(X_linear_end_st_train, Y_linear_end_st_train)\n",
    "    pred_test = ols_end_st_m.predict(X_linear_end_st_test)\n",
    "    score = r2_score(Y_linear_end_st_test, pred_test)\n",
    "    ols_end_st.append(score)\n",
    "\n",
    "print (\"Elastic Net R2 Value for End Value of Testosterone (Standardized/Centered):\", np.array(ols_end_st).mean())\n",
    "print (\"95% Confidence Interval:\", st.t.interval(0.95, len(ols_end_st)-1, loc=np.mean(ols_end_st), scale=st.sem(ols_end_st)))"
   ]
  },
  {
   "cell_type": "markdown",
   "metadata": {},
   "source": [
    "Logistic Regression (L1)"
   ]
  },
  {
   "cell_type": "markdown",
   "metadata": {},
   "source": [
    "Unstandardized"
   ]
  },
  {
   "cell_type": "code",
   "execution_count": 365,
   "metadata": {
    "collapsed": false
   },
   "outputs": [
    {
     "name": "stdout",
     "output_type": "stream",
     "text": [
      "('Logistic L1 Penalty Accuracy Score for Change in Testosterone (Unstandardized):', 0.70646153846153836)\n",
      "('95% Confidence Interval:', (0.64242803184801589, 0.77049504507506084))\n",
      "('Logistic L1 Penalty Precision Score for Change in Testosterone (Standardized):', 0.73356620718462828)\n",
      "('95% Confidence Interval:', (0.69304590804260369, 0.77408650632665288))\n",
      "('Logistic L1 Penalty Accuracy Score for End Value of Testosterone (Unstandardized):', 0.70990313390313386)\n",
      "('95% Confidence Interval:', (0.65722716971844053, 0.7625790980878272))\n",
      "('Logistic L1 Penalty Precision Score for End Value of Testosterone (Standardized):', 0.68652958152958155)\n",
      "('95% Confidence Interval:', (0.62621887624049044, 0.74684028681867265))\n"
     ]
    }
   ],
   "source": [
    "X_logit = t_data.drop(['T_End','T_Change','T_Supp','T_Change_Bin'], axis = 1)\n",
    "Y_logit_ch = t_data[['T_Change_Bin']]\n",
    "Y_logit_end = t_data[['T_Supp']]\n",
    "\n",
    "\n",
    "logit_all = linear_model.LogisticRegression(penalty=\"l1\")\n",
    "logit_all.fit(X_logit,Y_logit_ch.values.ravel())\n",
    "\n",
    "scores = model_selection.cross_val_score(logit_all, X_logit, Y_logit_ch.values.ravel(), scoring='accuracy', cv=10)\n",
    "\n",
    "print (\"Logistic L1 Penalty Accuracy Score for Change in Testosterone (Unstandardized):\", scores.mean())\n",
    "print (\"95% Confidence Interval:\", st.t.interval(0.95, len(scores)-1, loc=np.mean(scores), scale=st.sem(scores)))\n",
    "\n",
    "scores = model_selection.cross_val_score(logit_all, X_logit, Y_logit_ch.values.ravel(), scoring='precision', cv=10)\n",
    "\n",
    "print (\"Logistic L1 Penalty Precision Score for Change in Testosterone (Standardized):\", scores.mean())\n",
    "print (\"95% Confidence Interval:\", st.t.interval(0.95, len(scores)-1, loc=np.mean(scores), scale=st.sem(scores)))\n",
    "\n",
    "logit_all = linear_model.LogisticRegression(penalty=\"l1\")\n",
    "logit_all.fit(X_logit,Y_logit_end.values.ravel())\n",
    "\n",
    "scores = model_selection.cross_val_score(logit_all, X_logit, Y_logit_end.values.ravel(), scoring='accuracy', cv=10)\n",
    "\n",
    "print (\"Logistic L1 Penalty Accuracy Score for End Value of Testosterone (Unstandardized):\", scores.mean())\n",
    "print (\"95% Confidence Interval:\", st.t.interval(0.95, len(scores)-1, loc=np.mean(scores), scale=st.sem(scores)))\n",
    "\n",
    "scores = model_selection.cross_val_score(logit_all, X_logit, Y_logit_end.values.ravel(), scoring='precision', cv=10)\n",
    "\n",
    "print (\"Logistic L1 Penalty Precision Score for End Value of Testosterone (Standardized):\", scores.mean())\n",
    "print (\"95% Confidence Interval:\", st.t.interval(0.95, len(scores)-1, loc=np.mean(scores), scale=st.sem(scores)))"
   ]
  },
  {
   "cell_type": "markdown",
   "metadata": {},
   "source": [
    "STANDARDIZED"
   ]
  },
  {
   "cell_type": "code",
   "execution_count": 376,
   "metadata": {
    "collapsed": false
   },
   "outputs": [
    {
     "name": "stdout",
     "output_type": "stream",
     "text": [
      "('Logistic L1 Penalty Accuracy Score for Change in Testosterone (Standardized):', 0.6987692307692307)\n",
      "('95% Confidence Interval:', (0.63403548611047789, 0.76350297542798351))\n",
      "('Logistic L1 Penalty Precision Score for Change in Testosterone (Standardized):', 0.72809106098579779)\n",
      "('95% Confidence Interval:', (0.6886920881100872, 0.76749003386150838))\n",
      "('Logistic L1 Penalty Accuracy Score for End Value of Testosterone (Standardized):', 0.69036467236467236)\n",
      "('95% Confidence Interval:', (0.63886429749795792, 0.7418650472313868))\n",
      "('Logistic L1 Penalty Precision Score for End Value of Testosterone (Standardized):', 0.65723581973581979)\n",
      "('95% Confidence Interval:', (0.5897816554594415, 0.72468998401219809))\n"
     ]
    }
   ],
   "source": [
    "X_logit_st = X_logit.copy()\n",
    "\n",
    "X_logit_st['HRT_Time'] = preprocessing.scale(X_logit_st['HRT_Time'])\n",
    "X_logit_st['Regimen_Time'] = preprocessing.scale(X_logit_st['Regimen_Time'])\n",
    "X_logit_st['Age'] = preprocessing.scale(X_logit_st['Age'])\n",
    "X_logit_st['BMI'] = preprocessing.scale(X_logit_st['BMI'])\n",
    "X_logit_st['T_Start'] = preprocessing.scale(X_logit_st['T_Start'])\n",
    "\n",
    "logit_all = linear_model.LogisticRegression(penalty=\"l1\")\n",
    "logit_all.fit(X_logit_st,Y_logit_ch.values.ravel())\n",
    "\n",
    "scores = model_selection.cross_val_score(logit_all, X_logit_st, Y_logit_ch.values.ravel(), scoring='accuracy', cv=10)\n",
    "\n",
    "print (\"Logistic L1 Penalty Accuracy Score for Change in Testosterone (Standardized):\", scores.mean())\n",
    "print (\"95% Confidence Interval:\", st.t.interval(0.95, len(scores)-1, loc=np.mean(scores), scale=st.sem(scores)))\n",
    "\n",
    "scores = model_selection.cross_val_score(logit_all, X_logit_st, Y_logit_ch.values.ravel(), scoring='precision', cv=10)\n",
    "\n",
    "print (\"Logistic L1 Penalty Precision Score for Change in Testosterone (Standardized):\", scores.mean())\n",
    "print (\"95% Confidence Interval:\", st.t.interval(0.95, len(scores)-1, loc=np.mean(scores), scale=st.sem(scores)))\n",
    "\n",
    "logit_all = linear_model.LogisticRegression(penalty=\"l1\")\n",
    "logit_all.fit(X_logit_st,Y_logit_end.values.ravel())\n",
    "\n",
    "scores = model_selection.cross_val_score(logit_all, X_logit_st, Y_logit_end.values.ravel(), scoring='accuracy', cv=10)\n",
    "\n",
    "print (\"Logistic L1 Penalty Accuracy Score for End Value of Testosterone (Standardized):\", scores.mean())\n",
    "print (\"95% Confidence Interval:\", st.t.interval(0.95, len(scores)-1, loc=np.mean(scores), scale=st.sem(scores)))\n",
    "\n",
    "scores = model_selection.cross_val_score(logit_all, X_logit_st, Y_logit_end.values.ravel(), scoring='precision', cv=10)\n",
    "\n",
    "print (\"Logistic L1 Penalty Precision Score for End Value of Testosterone (Standardized):\", scores.mean())\n",
    "print (\"95% Confidence Interval:\", st.t.interval(0.95, len(scores)-1, loc=np.mean(scores), scale=st.sem(scores)))"
   ]
  },
  {
   "cell_type": "markdown",
   "metadata": {},
   "source": [
    "LOGISTIC REGRESSION (L2)"
   ]
  },
  {
   "cell_type": "code",
   "execution_count": 383,
   "metadata": {
    "collapsed": false
   },
   "outputs": [
    {
     "name": "stdout",
     "output_type": "stream",
     "text": [
      "('Logistic L2 Penalty Accuracy Score for Change in Testosterone (Unstandardized):', 0.6872307692307692)\n",
      "('95% Confidence Interval:', (0.6271411698672964, 0.747320368594242))\n",
      "('Logistic L2 Penalty Precision Score for Change in Testosterone (Unstandardized):', 0.71931741117499626)\n",
      "('95% Confidence Interval:', (0.67822614888650723, 0.76040867346348529))\n",
      "('Logistic L2 Penalty Accuracy Score for End Value of Testosterone (Unstandardized):', 0.72189173789173788)\n",
      "('95% Confidence Interval:', (0.68084835418797607, 0.7629351215954997))\n",
      "('Logistic L2 Penalty Precision Score for End Value of Testosterone (Unstandardized):', 0.69144133644133643)\n",
      "('95% Confidence Interval:', (0.64344814059893018, 0.73943453228374267))\n"
     ]
    }
   ],
   "source": [
    "X_logit = t_data.drop(['T_End','T_Change','T_Supp','T_Change_Bin'], axis = 1)\n",
    "Y_logit_ch = t_data[['T_Change_Bin']]\n",
    "Y_logit_end = t_data[['T_Supp']]\n",
    "\n",
    "\n",
    "logit_all = linear_model.LogisticRegression(penalty=\"l2\")\n",
    "logit_all.fit(X_logit,Y_logit_ch.values.ravel())\n",
    "\n",
    "scores = model_selection.cross_val_score(logit_all, X_logit, Y_logit_ch.values.ravel(), scoring='accuracy', cv=10)\n",
    "\n",
    "print (\"Logistic L2 Penalty Accuracy Score for Change in Testosterone (Unstandardized):\", scores.mean())\n",
    "print (\"95% Confidence Interval:\", st.t.interval(0.95, len(scores)-1, loc=np.mean(scores), scale=st.sem(scores)))\n",
    "\n",
    "scores = model_selection.cross_val_score(logit_all, X_logit, Y_logit_ch.values.ravel(), scoring='precision', cv=10)\n",
    "\n",
    "print (\"Logistic L2 Penalty Precision Score for Change in Testosterone (Unstandardized):\", scores.mean())\n",
    "print (\"95% Confidence Interval:\", st.t.interval(0.95, len(scores)-1, loc=np.mean(scores), scale=st.sem(scores)))\n",
    "\n",
    "logit_all = linear_model.LogisticRegression(penalty=\"l2\")\n",
    "logit_all.fit(X_logit,Y_logit_end.values.ravel())\n",
    "\n",
    "scores = model_selection.cross_val_score(logit_all, X_logit, Y_logit_end.values.ravel(), scoring='accuracy', cv=10)\n",
    "\n",
    "print (\"Logistic L2 Penalty Accuracy Score for End Value of Testosterone (Unstandardized):\", scores.mean())\n",
    "print (\"95% Confidence Interval:\", st.t.interval(0.95, len(scores)-1, loc=np.mean(scores), scale=st.sem(scores)))\n",
    "\n",
    "scores = model_selection.cross_val_score(logit_all, X_logit, Y_logit_end.values.ravel(), scoring='precision', cv=10)\n",
    "\n",
    "print (\"Logistic L2 Penalty Precision Score for End Value of Testosterone (Unstandardized):\", scores.mean())\n",
    "print (\"95% Confidence Interval:\", st.t.interval(0.95, len(scores)-1, loc=np.mean(scores), scale=st.sem(scores)))"
   ]
  },
  {
   "cell_type": "code",
   "execution_count": 380,
   "metadata": {
    "collapsed": false,
    "scrolled": true
   },
   "outputs": [
    {
     "name": "stdout",
     "output_type": "stream",
     "text": [
      "('Logistic L2 Penalty Accuracy Score for Change in Testosterone (Standardized):', 0.6872307692307692)\n",
      "('95% Confidence Interval:', (0.6271411698672964, 0.747320368594242))\n",
      "('Logistic L2 Penalty Precision Score for Change in Testosterone (Standardized):', 0.71756302521008397)\n",
      "('95% Confidence Interval:', (0.67544078536106411, 0.75968526505910383))\n",
      "('Logistic L2 Penalty Accuracy Score for End Value of Testosterone (Standardized):', 0.70190313390313397)\n",
      "('95% Confidence Interval:', (0.64727297534571371, 0.75653329246055423))\n",
      "('Logistic L2 Penalty Precision Score for End Value of Testosterone (Standardized):', 0.66682095682095688)\n",
      "('95% Confidence Interval:', (0.59919109262119918, 0.73445082102071457))\n"
     ]
    }
   ],
   "source": [
    "X_logit_st = X_logit.copy()\n",
    "\n",
    "X_logit_st['HRT_Time'] = preprocessing.scale(X_logit_st['HRT_Time'])\n",
    "X_logit_st['Regimen_Time'] = preprocessing.scale(X_logit_st['Regimen_Time'])\n",
    "X_logit_st['Age'] = preprocessing.scale(X_logit_st['Age'])\n",
    "X_logit_st['BMI'] = preprocessing.scale(X_logit_st['BMI'])\n",
    "X_logit_st['T_Start'] = preprocessing.scale(X_logit_st['T_Start'])\n",
    "\n",
    "logit_all = linear_model.LogisticRegression(penalty=\"l2\")\n",
    "logit_all.fit(X_logit_st,Y_logit_ch.values.ravel())\n",
    "\n",
    "scores = model_selection.cross_val_score(logit_all, X_logit_st, Y_logit_ch.values.ravel(), scoring='accuracy', cv=10)\n",
    "\n",
    "print (\"Logistic L2 Penalty Accuracy Score for Change in Testosterone (Standardized):\", scores.mean())\n",
    "print (\"95% Confidence Interval:\", st.t.interval(0.95, len(scores)-1, loc=np.mean(scores), scale=st.sem(scores)))\n",
    "\n",
    "scores = model_selection.cross_val_score(logit_all, X_logit_st, Y_logit_ch.values.ravel(), scoring='precision', cv=10)\n",
    "\n",
    "print (\"Logistic L2 Penalty Precision Score for Change in Testosterone (Standardized):\", scores.mean())\n",
    "print (\"95% Confidence Interval:\", st.t.interval(0.95, len(scores)-1, loc=np.mean(scores), scale=st.sem(scores)))\n",
    "\n",
    "logit_all = linear_model.LogisticRegression(penalty=\"l2\")\n",
    "logit_all.fit(X_logit_st,Y_logit_end.values.ravel())\n",
    "\n",
    "scores = model_selection.cross_val_score(logit_all, X_logit_st, Y_logit_end.values.ravel(), scoring='accuracy', cv=10)\n",
    "\n",
    "print (\"Logistic L2 Penalty Accuracy Score for End Value of Testosterone (Standardized):\", scores.mean())\n",
    "print (\"95% Confidence Interval:\", st.t.interval(0.95, len(scores)-1, loc=np.mean(scores), scale=st.sem(scores)))\n",
    "\n",
    "scores = model_selection.cross_val_score(logit_all, X_logit_st, Y_logit_end.values.ravel(), scoring='precision', cv=10)\n",
    "\n",
    "print (\"Logistic L2 Penalty Precision Score for End Value of Testosterone (Standardized):\", scores.mean())\n",
    "print (\"95% Confidence Interval:\", st.t.interval(0.95, len(scores)-1, loc=np.mean(scores), scale=st.sem(scores)))"
   ]
  },
  {
   "cell_type": "code",
   "execution_count": null,
   "metadata": {
    "collapsed": true
   },
   "outputs": [],
   "source": []
  },
  {
   "cell_type": "code",
   "execution_count": null,
   "metadata": {
    "collapsed": true
   },
   "outputs": [],
   "source": []
  },
  {
   "cell_type": "markdown",
   "metadata": {},
   "source": [
    "# This is the breakpoint for presentable work"
   ]
  },
  {
   "cell_type": "code",
   "execution_count": 207,
   "metadata": {
    "collapsed": false
   },
   "outputs": [],
   "source": [
    "#import all data\n",
    "t_data = pd.read_csv('T_Data.csv')\n",
    "\n",
    "t_data_st = (t_data-t_data.mean())/t_data.std()\n",
    "\n",
    "\n",
    "X_lasso = t_data.drop(['T_End','T_Change','T_Supp','T_Change_Bin'], axis = 1)\n",
    "Y_lasso = t_data[['T_End']]\n",
    "\n",
    "X_lasso = (X_lasso-X_lasso.mean())/X_lasso.std()\n",
    "Y_lasso = Y_lasso-Y_lasso.mean()\n",
    "\n",
    "#X_lasso = t_data_st.drop(['T_End','T_Change','T_Supp'], axis = 1)\n",
    "#Y_lasso = t_data_st[['T_Change']]\n",
    "\n",
    "\n",
    "#X_lasso = X_lasso[['HRT_Time','Regimen_Time','Regimen_1',\n",
    "                                        #'Spironolactone','Finasteride','Bicalutamide_50','Leuprolide','Medroxyprogesterone',\n",
    "                                        #'Micronized_Progesterone','Estradiol','T_Start','Age','BMI']]\n",
    "\n",
    "X_lasso_train, X_lasso_test, Y_lasso_train, Y_lasso_test = sklearn.model_selection.train_test_split(\n",
    "    X_lasso, Y_lasso, test_size=0.2, random_state = 5)"
   ]
  },
  {
   "cell_type": "code",
   "execution_count": null,
   "metadata": {
    "collapsed": true
   },
   "outputs": [],
   "source": []
  },
  {
   "cell_type": "code",
   "execution_count": 7,
   "metadata": {
    "collapsed": false
   },
   "outputs": [
    {
     "name": "stdout",
     "output_type": "stream",
     "text": [
      "('Training Error: ', 106274.38137394062)\n",
      "('Testing Error: ', 83974.252988833134)\n",
      "('Variance Score: ', 0.24423099525559666)\n"
     ]
    }
   ],
   "source": [
    "#optimized to end value (elastic net)\n",
    "elastic = linear_model.ElasticNet()\n",
    "\n",
    "elastic.fit(X_lasso_train,Y_lasso_train)\n",
    "\n",
    "pred_train = elastic.predict(X_lasso_train)\n",
    "print (\"Training Error: \", mean_squared_error(Y_lasso_train, pred_train))\n",
    "\n",
    "pred_test = elastic.predict(X_lasso_test)\n",
    "print (\"Testing Error: \", mean_squared_error(Y_lasso_test, pred_test))\n",
    "\n",
    "print (\"Variance Score: \", r2_score(Y_lasso_test, pred_test))"
   ]
  },
  {
   "cell_type": "code",
   "execution_count": 9,
   "metadata": {
    "collapsed": false
   },
   "outputs": [
    {
     "name": "stdout",
     "output_type": "stream",
     "text": [
      "('Training Error: ', 106281.25838122134)\n",
      "('Testing Error: ', 83976.43316656111)\n",
      "('Variance Score: ', 0.17290595082621196)\n"
     ]
    }
   ],
   "source": [
    "#optimized to change value (elastic net)\n",
    "elastic = linear_model.ElasticNet()\n",
    "\n",
    "elastic.fit(X_lasso_train,Y_lasso_train)\n",
    "\n",
    "pred_train = elastic.predict(X_lasso_train)\n",
    "print (\"Training Error: \", mean_squared_error(Y_lasso_train, pred_train))\n",
    "\n",
    "pred_test = elastic.predict(X_lasso_test)\n",
    "print (\"Testing Error: \", mean_squared_error(Y_lasso_test, pred_test))\n",
    "\n",
    "print (\"Variance Score: \", r2_score(Y_lasso_test, pred_test))"
   ]
  },
  {
   "cell_type": "code",
   "execution_count": 28,
   "metadata": {
    "collapsed": false
   },
   "outputs": [
    {
     "name": "stdout",
     "output_type": "stream",
     "text": [
      "('Training Error: ', 86463.031818562013)\n",
      "('Testing Error: ', 87834.96914776662)\n",
      "('Variance Score: ', 0.20948451636252674)\n"
     ]
    }
   ],
   "source": [
    "#optimized to end value\n",
    "lasso = linear_model.Lasso()\n",
    "\n",
    "lasso.fit(X_lasso_train,Y_lasso_train)\n",
    "\n",
    "pred_train = lasso.predict(X_lasso_train)\n",
    "print (\"Training Error: \", mean_squared_error(Y_lasso_train, pred_train))\n",
    "\n",
    "pred_test = lasso.predict(X_lasso_test)\n",
    "print (\"Testing Error: \", mean_squared_error(Y_lasso_test, pred_test))\n",
    "\n",
    "print (\"Variance Score: \", r2_score(Y_lasso_test, pred_test))"
   ]
  },
  {
   "cell_type": "code",
   "execution_count": 23,
   "metadata": {
    "collapsed": false
   },
   "outputs": [
    {
     "name": "stdout",
     "output_type": "stream",
     "text": [
      "('Training Error: ', 93019.868774178889)\n",
      "('Testing Error: ', 77960.666245438581)\n",
      "('Variance Score: ', 0.29835332806877224)\n"
     ]
    }
   ],
   "source": [
    "#optimized to end value (elastic net, standardized)\n",
    "elastic = linear_model.ElasticNet()\n",
    "\n",
    "elastic.fit(X_lasso_train,Y_lasso_train)\n",
    "\n",
    "pred_train = elastic.predict(X_lasso_train)\n",
    "print (\"Training Error: \", mean_squared_error(Y_lasso_train, pred_train))\n",
    "\n",
    "pred_test = elastic.predict(X_lasso_test)\n",
    "print (\"Testing Error: \", mean_squared_error(Y_lasso_test, pred_test))\n",
    "\n",
    "print (\"Variance Score: \", r2_score(Y_lasso_test, pred_test))"
   ]
  },
  {
   "cell_type": "code",
   "execution_count": 40,
   "metadata": {
    "collapsed": false
   },
   "outputs": [
    {
     "name": "stdout",
     "output_type": "stream",
     "text": [
      "('Training Error: ', 90290.582016193352)\n",
      "('Testing Error: ', 89082.991772079666)\n",
      "('Variance Score: ', 0.10394655686127063)\n"
     ]
    }
   ],
   "source": [
    "X_lasso_train, X_lasso_test, Y_lasso_train, Y_lasso_test = sklearn.model_selection.train_test_split(\n",
    "    X_lasso, Y_lasso, test_size=0.2)\n",
    "\n",
    "#optimized to change value (elastic net, standardized)\n",
    "elastic = linear_model.ElasticNet()\n",
    "\n",
    "elastic.fit(X_lasso_train,Y_lasso_train)\n",
    "\n",
    "pred_train = elastic.predict(X_lasso_train)\n",
    "print (\"Training Error: \", mean_squared_error(Y_lasso_train, pred_train))\n",
    "\n",
    "pred_test = elastic.predict(X_lasso_test)\n",
    "print (\"Testing Error: \", mean_squared_error(Y_lasso_test, pred_test))\n",
    "\n",
    "print (\"Variance Score: \", r2_score(Y_lasso_test, pred_test))"
   ]
  },
  {
   "cell_type": "code",
   "execution_count": 26,
   "metadata": {
    "collapsed": false
   },
   "outputs": [
    {
     "name": "stdout",
     "output_type": "stream",
     "text": [
      "('Training Error: ', 84271.685053736073)\n",
      "('Testing Error: ', 84427.434420164209)\n",
      "('Variance Score: ', 0.24015235844567728)\n"
     ]
    }
   ],
   "source": [
    "#optimized to end value and standardized\n",
    "lasso = linear_model.Lasso()\n",
    "\n",
    "lasso.fit(X_lasso_train,Y_lasso_train)\n",
    "\n",
    "pred_train = lasso.predict(X_lasso_train)\n",
    "print (\"Training Error: \", mean_squared_error(Y_lasso_train, pred_train))\n",
    "\n",
    "pred_test = lasso.predict(X_lasso_test)\n",
    "print (\"Testing Error: \", mean_squared_error(Y_lasso_test, pred_test))\n",
    "\n",
    "print (\"Variance Score: \", r2_score(Y_lasso_test, pred_test))"
   ]
  },
  {
   "cell_type": "code",
   "execution_count": 15,
   "metadata": {
    "collapsed": false
   },
   "outputs": [
    {
     "name": "stdout",
     "output_type": "stream",
     "text": [
      "('Training Error: ', 86462.519910147457)\n",
      "('Testing Error: ', 87812.84133115712)\n",
      "('Variance Score: ', 0.13512070270968934)\n"
     ]
    }
   ],
   "source": [
    "#optimized to change in value\n",
    "lasso = linear_model.Lasso()\n",
    "\n",
    "lasso.fit(X_lasso_train,Y_lasso_train)\n",
    "\n",
    "pred_train = lasso.predict(X_lasso_train)\n",
    "print (\"Training Error: \", mean_squared_error(Y_lasso_train, pred_train))\n",
    "\n",
    "pred_test = lasso.predict(X_lasso_test)\n",
    "print (\"Testing Error: \", mean_squared_error(Y_lasso_test, pred_test))\n",
    "\n",
    "print (\"Variance Score: \", r2_score(Y_lasso_test, pred_test))"
   ]
  },
  {
   "cell_type": "code",
   "execution_count": 26,
   "metadata": {
    "collapsed": false
   },
   "outputs": [
    {
     "name": "stdout",
     "output_type": "stream",
     "text": [
      "('Training Error: ', 1.0869968501795155)\n",
      "('Testing Error: ', 0.63473717036184218)\n",
      "('Variance Score: ', -0.0022203090376313739)\n"
     ]
    }
   ],
   "source": [
    "#optimized to change in value and standardized\n",
    "lasso = linear_model.Lasso()\n",
    "\n",
    "lasso.fit(X_lasso_train,Y_lasso_train)\n",
    "\n",
    "pred_train = lasso.predict(X_lasso_train)\n",
    "print (\"Training Error: \", mean_squared_error(Y_lasso_train, pred_train))\n",
    "\n",
    "pred_test = lasso.predict(X_lasso_test)\n",
    "print (\"Testing Error: \", mean_squared_error(Y_lasso_test, pred_test))\n",
    "\n",
    "print (\"Variance Score: \", r2_score(Y_lasso_test, pred_test))"
   ]
  },
  {
   "cell_type": "code",
   "execution_count": 18,
   "metadata": {
    "collapsed": false
   },
   "outputs": [
    {
     "name": "stdout",
     "output_type": "stream",
     "text": [
      "('Training Error: ', 105470.88478356665)\n",
      "('Testing Error: ', 79904.951072438402)\n",
      "('Variance Score: ', 0.21300647051234045)\n"
     ]
    }
   ],
   "source": [
    "#from features selected by logistic l1 penalty for change\n",
    "lasso = linear_model.Lasso()\n",
    "\n",
    "lasso.fit(X_lasso_train,Y_lasso_train)\n",
    "\n",
    "pred_train = lasso.predict(X_lasso_train)\n",
    "print (\"Training Error: \", mean_squared_error(Y_lasso_train, pred_train))\n",
    "\n",
    "pred_test = lasso.predict(X_lasso_test)\n",
    "print (\"Testing Error: \", mean_squared_error(Y_lasso_test, pred_test))\n",
    "\n",
    "print (\"Variance Score: \", r2_score(Y_lasso_test, pred_test))"
   ]
  },
  {
   "cell_type": "code",
   "execution_count": 20,
   "metadata": {
    "collapsed": false
   },
   "outputs": [
    {
     "name": "stdout",
     "output_type": "stream",
     "text": [
      "('Training Error: ', 105466.10572434512)\n",
      "('Testing Error: ', 79904.014930354984)\n",
      "('Variance Score: ', 0.28086317306059461)\n"
     ]
    }
   ],
   "source": [
    "#from features selected by logistic l1 penalty for end value\n",
    "lasso = linear_model.Lasso()\n",
    "\n",
    "lasso.fit(X_lasso_train,Y_lasso_train)\n",
    "\n",
    "pred_train = lasso.predict(X_lasso_train)\n",
    "print (\"Training Error: \", mean_squared_error(Y_lasso_train, pred_train))\n",
    "\n",
    "pred_test = lasso.predict(X_lasso_test)\n",
    "print (\"Testing Error: \", mean_squared_error(Y_lasso_test, pred_test))\n",
    "\n",
    "print (\"Variance Score: \", r2_score(Y_lasso_test, pred_test))"
   ]
  },
  {
   "cell_type": "code",
   "execution_count": 49,
   "metadata": {
    "collapsed": false
   },
   "outputs": [
    {
     "data": {
      "text/html": [
       "<div>\n",
       "<table border=\"1\" class=\"dataframe\">\n",
       "  <thead>\n",
       "    <tr style=\"text-align: right;\">\n",
       "      <th></th>\n",
       "      <th>Feature</th>\n",
       "      <th>LASSO Regression Coefficient</th>\n",
       "    </tr>\n",
       "  </thead>\n",
       "  <tbody>\n",
       "    <tr>\n",
       "      <th>0</th>\n",
       "      <td>HRT_Time</td>\n",
       "      <td>-3.226654e-02</td>\n",
       "    </tr>\n",
       "    <tr>\n",
       "      <th>1</th>\n",
       "      <td>Regimen_1</td>\n",
       "      <td>-2.484771e+01</td>\n",
       "    </tr>\n",
       "    <tr>\n",
       "      <th>2</th>\n",
       "      <td>Spironolactone</td>\n",
       "      <td>-2.663037e+01</td>\n",
       "    </tr>\n",
       "    <tr>\n",
       "      <th>3</th>\n",
       "      <td>Spironolactone_25</td>\n",
       "      <td>-0.000000e+00</td>\n",
       "    </tr>\n",
       "    <tr>\n",
       "      <th>4</th>\n",
       "      <td>Spironolactone_50</td>\n",
       "      <td>0.000000e+00</td>\n",
       "    </tr>\n",
       "    <tr>\n",
       "      <th>5</th>\n",
       "      <td>Spironolactone_100</td>\n",
       "      <td>-5.421269e+01</td>\n",
       "    </tr>\n",
       "    <tr>\n",
       "      <th>6</th>\n",
       "      <td>Finasteride</td>\n",
       "      <td>-0.000000e+00</td>\n",
       "    </tr>\n",
       "    <tr>\n",
       "      <th>7</th>\n",
       "      <td>Finasteride_1</td>\n",
       "      <td>-5.107407e+01</td>\n",
       "    </tr>\n",
       "    <tr>\n",
       "      <th>8</th>\n",
       "      <td>Finasteride_5</td>\n",
       "      <td>0.000000e+00</td>\n",
       "    </tr>\n",
       "    <tr>\n",
       "      <th>9</th>\n",
       "      <td>Bicalutamide_50</td>\n",
       "      <td>-0.000000e+00</td>\n",
       "    </tr>\n",
       "    <tr>\n",
       "      <th>10</th>\n",
       "      <td>Leuprolide</td>\n",
       "      <td>-0.000000e+00</td>\n",
       "    </tr>\n",
       "    <tr>\n",
       "      <th>11</th>\n",
       "      <td>Leuprolide_7_5</td>\n",
       "      <td>1.608699e+01</td>\n",
       "    </tr>\n",
       "    <tr>\n",
       "      <th>12</th>\n",
       "      <td>Leuprolide_11_25</td>\n",
       "      <td>-1.211040e+02</td>\n",
       "    </tr>\n",
       "    <tr>\n",
       "      <th>13</th>\n",
       "      <td>Leuprolide_15</td>\n",
       "      <td>-6.010279e+01</td>\n",
       "    </tr>\n",
       "    <tr>\n",
       "      <th>14</th>\n",
       "      <td>Leuprolide_22_5</td>\n",
       "      <td>0.000000e+00</td>\n",
       "    </tr>\n",
       "    <tr>\n",
       "      <th>15</th>\n",
       "      <td>Leuprolide_30</td>\n",
       "      <td>0.000000e+00</td>\n",
       "    </tr>\n",
       "    <tr>\n",
       "      <th>16</th>\n",
       "      <td>Medroxyprogesterone</td>\n",
       "      <td>0.000000e+00</td>\n",
       "    </tr>\n",
       "    <tr>\n",
       "      <th>17</th>\n",
       "      <td>Medroxyprogesterone_150</td>\n",
       "      <td>-0.000000e+00</td>\n",
       "    </tr>\n",
       "    <tr>\n",
       "      <th>18</th>\n",
       "      <td>Medroxyprogesterone_10</td>\n",
       "      <td>3.803797e+02</td>\n",
       "    </tr>\n",
       "    <tr>\n",
       "      <th>19</th>\n",
       "      <td>Medroxyprogesterone_5</td>\n",
       "      <td>0.000000e+00</td>\n",
       "    </tr>\n",
       "    <tr>\n",
       "      <th>20</th>\n",
       "      <td>Micronized_Progesterone</td>\n",
       "      <td>-8.823345e+01</td>\n",
       "    </tr>\n",
       "    <tr>\n",
       "      <th>21</th>\n",
       "      <td>Micronized_Progesterone_100</td>\n",
       "      <td>-8.351912e-13</td>\n",
       "    </tr>\n",
       "    <tr>\n",
       "      <th>22</th>\n",
       "      <td>Estradiol</td>\n",
       "      <td>-9.547142e+01</td>\n",
       "    </tr>\n",
       "    <tr>\n",
       "      <th>23</th>\n",
       "      <td>Estradiol_Valerate_40</td>\n",
       "      <td>-9.214190e+01</td>\n",
       "    </tr>\n",
       "    <tr>\n",
       "      <th>24</th>\n",
       "      <td>Estradiol_Valerate_20</td>\n",
       "      <td>-8.559856e+01</td>\n",
       "    </tr>\n",
       "    <tr>\n",
       "      <th>25</th>\n",
       "      <td>Estradiol_Valerate_10</td>\n",
       "      <td>0.000000e+00</td>\n",
       "    </tr>\n",
       "    <tr>\n",
       "      <th>26</th>\n",
       "      <td>Estradiol_2</td>\n",
       "      <td>-1.653462e+01</td>\n",
       "    </tr>\n",
       "    <tr>\n",
       "      <th>27</th>\n",
       "      <td>Estradiol_1</td>\n",
       "      <td>0.000000e+00</td>\n",
       "    </tr>\n",
       "    <tr>\n",
       "      <th>28</th>\n",
       "      <td>Estradiol_0_1</td>\n",
       "      <td>-1.187774e+01</td>\n",
       "    </tr>\n",
       "    <tr>\n",
       "      <th>29</th>\n",
       "      <td>Estradiol_0_5</td>\n",
       "      <td>-1.617473e+01</td>\n",
       "    </tr>\n",
       "    <tr>\n",
       "      <th>30</th>\n",
       "      <td>Estradiol_Cypionate_5</td>\n",
       "      <td>0.000000e+00</td>\n",
       "    </tr>\n",
       "    <tr>\n",
       "      <th>31</th>\n",
       "      <td>T_Start</td>\n",
       "      <td>3.617945e-01</td>\n",
       "    </tr>\n",
       "    <tr>\n",
       "      <th>32</th>\n",
       "      <td>Regimen_Time</td>\n",
       "      <td>6.528148e-02</td>\n",
       "    </tr>\n",
       "    <tr>\n",
       "      <th>33</th>\n",
       "      <td>ARV</td>\n",
       "      <td>7.568639e+00</td>\n",
       "    </tr>\n",
       "    <tr>\n",
       "      <th>34</th>\n",
       "      <td>Multivitamin</td>\n",
       "      <td>-2.356156e+02</td>\n",
       "    </tr>\n",
       "    <tr>\n",
       "      <th>35</th>\n",
       "      <td>Antibiotic</td>\n",
       "      <td>-0.000000e+00</td>\n",
       "    </tr>\n",
       "    <tr>\n",
       "      <th>36</th>\n",
       "      <td>Statin</td>\n",
       "      <td>2.688241e+02</td>\n",
       "    </tr>\n",
       "    <tr>\n",
       "      <th>37</th>\n",
       "      <td>Nicotine</td>\n",
       "      <td>5.710324e+01</td>\n",
       "    </tr>\n",
       "    <tr>\n",
       "      <th>38</th>\n",
       "      <td>Insulin</td>\n",
       "      <td>-0.000000e+00</td>\n",
       "    </tr>\n",
       "    <tr>\n",
       "      <th>39</th>\n",
       "      <td>Warfarin</td>\n",
       "      <td>-0.000000e+00</td>\n",
       "    </tr>\n",
       "    <tr>\n",
       "      <th>40</th>\n",
       "      <td>Age</td>\n",
       "      <td>5.118578e+00</td>\n",
       "    </tr>\n",
       "    <tr>\n",
       "      <th>41</th>\n",
       "      <td>BMI</td>\n",
       "      <td>-2.089290e+00</td>\n",
       "    </tr>\n",
       "    <tr>\n",
       "      <th>42</th>\n",
       "      <td>Hispanic</td>\n",
       "      <td>7.749011e+01</td>\n",
       "    </tr>\n",
       "    <tr>\n",
       "      <th>43</th>\n",
       "      <td>Black</td>\n",
       "      <td>3.434617e+00</td>\n",
       "    </tr>\n",
       "    <tr>\n",
       "      <th>44</th>\n",
       "      <td>White</td>\n",
       "      <td>-1.376621e+01</td>\n",
       "    </tr>\n",
       "    <tr>\n",
       "      <th>45</th>\n",
       "      <td>Other_Race</td>\n",
       "      <td>0.000000e+00</td>\n",
       "    </tr>\n",
       "    <tr>\n",
       "      <th>46</th>\n",
       "      <td>Cancer</td>\n",
       "      <td>-2.259824e+02</td>\n",
       "    </tr>\n",
       "    <tr>\n",
       "      <th>47</th>\n",
       "      <td>Diabetes</td>\n",
       "      <td>-1.991097e+02</td>\n",
       "    </tr>\n",
       "    <tr>\n",
       "      <th>48</th>\n",
       "      <td>Hep_C</td>\n",
       "      <td>-2.761896e+02</td>\n",
       "    </tr>\n",
       "    <tr>\n",
       "      <th>49</th>\n",
       "      <td>MH</td>\n",
       "      <td>6.378128e+01</td>\n",
       "    </tr>\n",
       "    <tr>\n",
       "      <th>50</th>\n",
       "      <td>Sub_Abuse</td>\n",
       "      <td>-0.000000e+00</td>\n",
       "    </tr>\n",
       "    <tr>\n",
       "      <th>51</th>\n",
       "      <td>HIV</td>\n",
       "      <td>-1.699660e+01</td>\n",
       "    </tr>\n",
       "    <tr>\n",
       "      <th>52</th>\n",
       "      <td>Underweight</td>\n",
       "      <td>-0.000000e+00</td>\n",
       "    </tr>\n",
       "    <tr>\n",
       "      <th>53</th>\n",
       "      <td>Normal_Weight</td>\n",
       "      <td>4.908397e+01</td>\n",
       "    </tr>\n",
       "    <tr>\n",
       "      <th>54</th>\n",
       "      <td>Overweight</td>\n",
       "      <td>0.000000e+00</td>\n",
       "    </tr>\n",
       "    <tr>\n",
       "      <th>55</th>\n",
       "      <td>Obese</td>\n",
       "      <td>-2.092732e+01</td>\n",
       "    </tr>\n",
       "  </tbody>\n",
       "</table>\n",
       "</div>"
      ],
      "text/plain": [
       "                        Feature  LASSO Regression Coefficient\n",
       "0                      HRT_Time                 -3.226654e-02\n",
       "1                     Regimen_1                 -2.484771e+01\n",
       "2                Spironolactone                 -2.663037e+01\n",
       "3             Spironolactone_25                 -0.000000e+00\n",
       "4             Spironolactone_50                  0.000000e+00\n",
       "5            Spironolactone_100                 -5.421269e+01\n",
       "6                   Finasteride                 -0.000000e+00\n",
       "7                 Finasteride_1                 -5.107407e+01\n",
       "8                 Finasteride_5                  0.000000e+00\n",
       "9               Bicalutamide_50                 -0.000000e+00\n",
       "10                   Leuprolide                 -0.000000e+00\n",
       "11               Leuprolide_7_5                  1.608699e+01\n",
       "12             Leuprolide_11_25                 -1.211040e+02\n",
       "13                Leuprolide_15                 -6.010279e+01\n",
       "14              Leuprolide_22_5                  0.000000e+00\n",
       "15                Leuprolide_30                  0.000000e+00\n",
       "16          Medroxyprogesterone                  0.000000e+00\n",
       "17      Medroxyprogesterone_150                 -0.000000e+00\n",
       "18       Medroxyprogesterone_10                  3.803797e+02\n",
       "19        Medroxyprogesterone_5                  0.000000e+00\n",
       "20      Micronized_Progesterone                 -8.823345e+01\n",
       "21  Micronized_Progesterone_100                 -8.351912e-13\n",
       "22                    Estradiol                 -9.547142e+01\n",
       "23        Estradiol_Valerate_40                 -9.214190e+01\n",
       "24        Estradiol_Valerate_20                 -8.559856e+01\n",
       "25        Estradiol_Valerate_10                  0.000000e+00\n",
       "26                  Estradiol_2                 -1.653462e+01\n",
       "27                  Estradiol_1                  0.000000e+00\n",
       "28                Estradiol_0_1                 -1.187774e+01\n",
       "29                Estradiol_0_5                 -1.617473e+01\n",
       "30        Estradiol_Cypionate_5                  0.000000e+00\n",
       "31                      T_Start                  3.617945e-01\n",
       "32                 Regimen_Time                  6.528148e-02\n",
       "33                          ARV                  7.568639e+00\n",
       "34                 Multivitamin                 -2.356156e+02\n",
       "35                   Antibiotic                 -0.000000e+00\n",
       "36                       Statin                  2.688241e+02\n",
       "37                     Nicotine                  5.710324e+01\n",
       "38                      Insulin                 -0.000000e+00\n",
       "39                     Warfarin                 -0.000000e+00\n",
       "40                          Age                  5.118578e+00\n",
       "41                          BMI                 -2.089290e+00\n",
       "42                     Hispanic                  7.749011e+01\n",
       "43                        Black                  3.434617e+00\n",
       "44                        White                 -1.376621e+01\n",
       "45                   Other_Race                  0.000000e+00\n",
       "46                       Cancer                 -2.259824e+02\n",
       "47                     Diabetes                 -1.991097e+02\n",
       "48                        Hep_C                 -2.761896e+02\n",
       "49                           MH                  6.378128e+01\n",
       "50                    Sub_Abuse                 -0.000000e+00\n",
       "51                          HIV                 -1.699660e+01\n",
       "52                  Underweight                 -0.000000e+00\n",
       "53                Normal_Weight                  4.908397e+01\n",
       "54                   Overweight                  0.000000e+00\n",
       "55                        Obese                 -2.092732e+01"
      ]
     },
     "execution_count": 49,
     "metadata": {},
     "output_type": "execute_result"
    }
   ],
   "source": [
    "coeff_lasso = pd.DataFrame(pd.DataFrame(lasso.coef_))\n",
    "coeff_lasso['Feature'] = X_lasso.columns\n",
    "coeff_lasso['LASSO Regression Coefficient'] = pd.DataFrame(pd.DataFrame(lasso.coef_))\n",
    "#coeff_lasso['L2 Coefficient'] = pd.DataFrame.transpose(pd.DataFrame(coeff_lasso.coef_))\n",
    "\n",
    "coeff_lasso.drop([0],axis=1)"
   ]
  },
  {
   "cell_type": "code",
   "execution_count": 69,
   "metadata": {
    "collapsed": false
   },
   "outputs": [],
   "source": [
    "#import all data\n",
    "t_data = pd.read_csv('T_Data.csv')\n",
    "\n",
    "t_data_st = (t_data-t_data.mean())/t_data.std()\n",
    "\n",
    "\n",
    "X_ridge = t_data.drop(['T_End','T_Change','T_Supp','Bicalutamide','T_Change_Bin'], axis = 1)\n",
    "Y_ridge = t_data[['T_End']]\n",
    "\n",
    "#X_ridge = t_data_st.drop(['T_End','T_Change','T_Supp','Bicalutamide'], axis = 1)\n",
    "#Y_ridge = t_data_st[['T_End']]\n",
    "\n",
    "\n",
    "#X_lasso = X_lasso[['HRT_Time','Regimen_Time','Regimen_1',\n",
    "                                        #'Spironolactone','Finasteride','Bicalutamide_50','Leuprolide','Medroxyprogesterone',\n",
    "                                        #'Micronized_Progesterone','Estradiol','T_Start','Age','BMI']]\n",
    "\n",
    "X_ridge = X_ridge[['HRT_Time','Spironolactone_25','Spironolactone_100',\n",
    "                             'Bicalutamide_50','Leuprolide_15','Leuprolide_22_5',\n",
    "                             'Estradiol_Valerate_40','Estradiol_Valerate_20','Estradiol_0_5',\n",
    "                             'T_Start','Regimen_Time','ARV','Statin','Nicotine','Insulin','Warfarin',\n",
    "                             'Age','BMI','MH','Cancer','Overweight','Obese']]        \n",
    "\n",
    "X_ridge_train, X_ridge_test, Y_ridge_train, Y_ridge_test = sklearn.model_selection.train_test_split(\n",
    "    X_ridge, Y_ridge, test_size=0.2, random_state = 5)"
   ]
  },
  {
   "cell_type": "code",
   "execution_count": 54,
   "metadata": {
    "collapsed": false
   },
   "outputs": [
    {
     "name": "stdout",
     "output_type": "stream",
     "text": [
      "('Training Error: ', 85221.839959095931)\n",
      "('Testing Error: ', 82569.652974128505)\n",
      "('Variance Score: ', 0.25687240756227658)\n"
     ]
    }
   ],
   "source": [
    "#optimized to end value\n",
    "ridge = linear_model.Ridge()\n",
    "\n",
    "ridge.fit(X_ridge_train,Y_ridge_train)\n",
    "\n",
    "pred_train = ridge.predict(X_ridge_train)\n",
    "print (\"Training Error: \", mean_squared_error(Y_ridge_train, pred_train))\n",
    "\n",
    "pred_test = ridge.predict(X_ridge_test)\n",
    "print (\"Testing Error: \", mean_squared_error(Y_ridge_test, pred_test))\n",
    "\n",
    "print (\"Variance Score: \", r2_score(Y_ridge_test, pred_test))"
   ]
  },
  {
   "cell_type": "code",
   "execution_count": 58,
   "metadata": {
    "collapsed": false
   },
   "outputs": [
    {
     "name": "stdout",
     "output_type": "stream",
     "text": [
      "('Training Error: ', 0.53078283426358441)\n",
      "('Testing Error: ', 0.44376326433647645)\n",
      "('Variance Score: ', 0.44551454479499519)\n"
     ]
    }
   ],
   "source": [
    "#optimized to end value and standardized\n",
    "ridge = linear_model.Ridge()\n",
    "\n",
    "ridge.fit(X_ridge_train,Y_ridge_train)\n",
    "\n",
    "pred_train = ridge.predict(X_ridge_train)\n",
    "print (\"Training Error: \", mean_squared_error(Y_ridge_train, pred_train))\n",
    "\n",
    "pred_test = ridge.predict(X_ridge_test)\n",
    "print (\"Testing Error: \", mean_squared_error(Y_ridge_test, pred_test))\n",
    "\n",
    "print (\"Variance Score: \", r2_score(Y_ridge_test, pred_test))"
   ]
  },
  {
   "cell_type": "code",
   "execution_count": 62,
   "metadata": {
    "collapsed": false
   },
   "outputs": [
    {
     "name": "stdout",
     "output_type": "stream",
     "text": [
      "('Training Error: ', 85221.524951583124)\n",
      "('Testing Error: ', 82558.660654526)\n",
      "('Variance Score: ', 0.18686976381003539)\n"
     ]
    }
   ],
   "source": [
    "#optimized to change in value\n",
    "ridge = linear_model.Ridge()\n",
    "\n",
    "ridge.fit(X_ridge_train,Y_ridge_train)\n",
    "\n",
    "pred_train = ridge.predict(X_ridge_train)\n",
    "print (\"Training Error: \", mean_squared_error(Y_ridge_train, pred_train))\n",
    "\n",
    "pred_test = ridge.predict(X_ridge_test)\n",
    "print (\"Testing Error: \", mean_squared_error(Y_ridge_test, pred_test))\n",
    "\n",
    "print (\"Variance Score: \", r2_score(Y_ridge_test, pred_test))"
   ]
  },
  {
   "cell_type": "code",
   "execution_count": 60,
   "metadata": {
    "collapsed": false
   },
   "outputs": [
    {
     "name": "stdout",
     "output_type": "stream",
     "text": [
      "('Training Error: ', 0.4596506305266817)\n",
      "('Testing Error: ', 0.38330931902136156)\n",
      "('Variance Score: ', 0.39477251041152017)\n"
     ]
    }
   ],
   "source": [
    "#optimized to change in value and standardized\n",
    "ridge = linear_model.Ridge()\n",
    "\n",
    "ridge.fit(X_ridge_train,Y_ridge_train)\n",
    "\n",
    "pred_train = ridge.predict(X_ridge_train)\n",
    "print (\"Training Error: \", mean_squared_error(Y_ridge_train, pred_train))\n",
    "\n",
    "pred_test = ridge.predict(X_ridge_test)\n",
    "print (\"Testing Error: \", mean_squared_error(Y_ridge_test, pred_test))\n",
    "\n",
    "print (\"Variance Score: \", r2_score(Y_ridge_test, pred_test))"
   ]
  },
  {
   "cell_type": "code",
   "execution_count": 64,
   "metadata": {
    "collapsed": false
   },
   "outputs": [
    {
     "name": "stdout",
     "output_type": "stream",
     "text": [
      "('Training Error: ', 98349.325438526372)\n",
      "('Testing Error: ', 83451.002379252677)\n",
      "('Variance Score: ', 0.17808098221357205)\n"
     ]
    }
   ],
   "source": [
    "#optimized to change in value and run with variables selected by L1 logistic\n",
    "ridge = linear_model.Ridge()\n",
    "\n",
    "ridge.fit(X_ridge_train,Y_ridge_train)\n",
    "\n",
    "pred_train = ridge.predict(X_ridge_train)\n",
    "print (\"Training Error: \", mean_squared_error(Y_ridge_train, pred_train))\n",
    "\n",
    "pred_test = ridge.predict(X_ridge_test)\n",
    "print (\"Testing Error: \", mean_squared_error(Y_ridge_test, pred_test))\n",
    "\n",
    "print (\"Variance Score: \", r2_score(Y_ridge_test, pred_test))"
   ]
  },
  {
   "cell_type": "code",
   "execution_count": 66,
   "metadata": {
    "collapsed": false
   },
   "outputs": [
    {
     "name": "stdout",
     "output_type": "stream",
     "text": [
      "('Training Error: ', 0.61285565750984894)\n",
      "('Testing Error: ', 0.5163598917169252)\n",
      "('Variance Score: ', 0.18469187812624599)\n"
     ]
    }
   ],
   "source": [
    "#optimized to change in value and standardized and run with variables selected by L1 logistic\n",
    "ridge = linear_model.Ridge()\n",
    "\n",
    "ridge.fit(X_ridge_train,Y_ridge_train)\n",
    "\n",
    "pred_train = ridge.predict(X_ridge_train)\n",
    "print (\"Training Error: \", mean_squared_error(Y_ridge_train, pred_train))\n",
    "\n",
    "pred_test = ridge.predict(X_ridge_test)\n",
    "print (\"Testing Error: \", mean_squared_error(Y_ridge_test, pred_test))\n",
    "\n",
    "print (\"Variance Score: \", r2_score(Y_ridge_test, pred_test))"
   ]
  },
  {
   "cell_type": "code",
   "execution_count": 70,
   "metadata": {
    "collapsed": false
   },
   "outputs": [
    {
     "name": "stdout",
     "output_type": "stream",
     "text": [
      "('Training Error: ', 98344.661261048022)\n",
      "('Testing Error: ', 83449.983562240115)\n",
      "('Variance Score: ', 0.24894942463902703)\n"
     ]
    }
   ],
   "source": [
    "#optimized to end value and run with variables selected by L1 logistic\n",
    "ridge = linear_model.Ridge()\n",
    "\n",
    "ridge.fit(X_ridge_train,Y_ridge_train)\n",
    "\n",
    "pred_train = ridge.predict(X_ridge_train)\n",
    "print (\"Training Error: \", mean_squared_error(Y_ridge_train, pred_train))\n",
    "\n",
    "pred_test = ridge.predict(X_ridge_test)\n",
    "print (\"Testing Error: \", mean_squared_error(Y_ridge_test, pred_test))\n",
    "\n",
    "print (\"Variance Score: \", r2_score(Y_ridge_test, pred_test))"
   ]
  },
  {
   "cell_type": "code",
   "execution_count": 68,
   "metadata": {
    "collapsed": false
   },
   "outputs": [
    {
     "name": "stdout",
     "output_type": "stream",
     "text": [
      "('Training Error: ', 0.70763586037375725)\n",
      "('Testing Error: ', 0.596660197459149)\n",
      "('Variance Score: ', 0.25446870487235618)\n"
     ]
    }
   ],
   "source": [
    "#optimized to end value standardized and run with variables selected by L1 logistic\n",
    "ridge = linear_model.Ridge()\n",
    "\n",
    "ridge.fit(X_ridge_train,Y_ridge_train)\n",
    "\n",
    "pred_train = ridge.predict(X_ridge_train)\n",
    "print (\"Training Error: \", mean_squared_error(Y_ridge_train, pred_train))\n",
    "\n",
    "pred_test = ridge.predict(X_ridge_test)\n",
    "print (\"Testing Error: \", mean_squared_error(Y_ridge_test, pred_test))\n",
    "\n",
    "print (\"Variance Score: \", r2_score(Y_ridge_test, pred_test))"
   ]
  },
  {
   "cell_type": "code",
   "execution_count": null,
   "metadata": {
    "collapsed": true
   },
   "outputs": [],
   "source": []
  }
 ],
 "metadata": {
  "kernelspec": {
   "display_name": "Python 2",
   "language": "python",
   "name": "python2"
  },
  "language_info": {
   "codemirror_mode": {
    "name": "ipython",
    "version": 2
   },
   "file_extension": ".py",
   "mimetype": "text/x-python",
   "name": "python",
   "nbconvert_exporter": "python",
   "pygments_lexer": "ipython2",
   "version": "2.7.12"
  }
 },
 "nbformat": 4,
 "nbformat_minor": 0
}
